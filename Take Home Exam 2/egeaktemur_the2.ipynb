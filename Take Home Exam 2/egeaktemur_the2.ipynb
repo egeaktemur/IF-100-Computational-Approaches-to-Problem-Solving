{
  "nbformat": 4,
  "nbformat_minor": 0,
  "metadata": {
    "colab": {
      "name": "egeaktemur_the2.ipynb",
      "provenance": [],
      "collapsed_sections": []
    },
    "kernelspec": {
      "name": "python3",
      "display_name": "Python 3"
    }
  },
  "cells": [
    {
      "cell_type": "code",
      "metadata": {
        "id": "KWveaBALNtJY",
        "colab": {
          "base_uri": "https://localhost:8080/",
          "height": 85
        },
        "outputId": "c6fe654d-e517-4efe-8c99-faa5d16965ba"
      },
      "source": [
        "#Ege Aktemur\n",
        "curterm = (input(\"Please enter your current term: \"))\n",
        "if str(curterm).isalnum() == False or str(curterm).isdigit() ==False or int(curterm) <1 :\n",
        "  print(\"Invalid input for the current term.\")\n",
        "elif str(curterm).isalnum() == True and str(curterm).isdigit() == True and int(curterm) < 2 :\n",
        "  print(\"Your Erasmus score cannot be calculated before the 2nd term.\")\n",
        "else:\n",
        "  credit = int(input(\"Please enter the total credits you earned before: \"))\n",
        "  if str(credit).isdigit() ==False:\n",
        "    print(\"Invalid input for the credits earned before.\")\n",
        "  elif str(credit).isdigit() ==True and int(curterm) == 2 and credit <34 or int(curterm) == 3 and credit <49 or int(curterm) >3 and credit <58:\n",
        "    print(\"Your Erasmus score cannot be calculated before you took the required amount of credits.\")\n",
        "  else:\n",
        "    sps101b = input(\"Please enter the SPS101 letter grade equivalents: \")\n",
        "    sps101 = sps101b.lower()\n",
        "    if \";:\" in sps101 or \":;\" in sps101 or \"a:\" not in sps101 or \"f:\" not in sps101:\n",
        "      print(\"Invalid input for SPS101 letter grade sequence.\")\n",
        "    else:\n",
        "      al102b = input(\"Please enter the AL102 letter grade equivalents: \") \n",
        "      al102 = al102b.lower()\n",
        "      if \";:\" in al102 or \":;\" in al102 or \"a:\" not in al102:\n",
        "        print(\"Invalid input for AL102 letter grade sequence.\")\n",
        "      else:\n",
        "        notesb = input(\"Please enter your SPS101 and AL102 letter grades: \")\n",
        "        notes = notesb.lower()\n",
        "        if notes.count(\",\") == 2 or \",\" not in notes:\n",
        "          print(\"Invalid input for SPS101 and AL102 letter grades.\")\n",
        "        elif notes.count(\",\") == 1:\n",
        "          splitloc = notes.find(\",\")\n",
        "          spsnote = notes[0:splitloc] + \":\"\n",
        "          alnote = notes[splitloc+1:len(notes)+1] + \":\"\n",
        "          if spsnote == \"-:\":\n",
        "            spsnote = \"c:\"\n",
        "          if len(alnote) == 2 and \"-:\" in alnote:\n",
        "            alnote = \"c:\"\n",
        "          if len(spsnote) == 2 and \"-:\" in spsnote:\n",
        "            spsnote = \"c:\"\n",
        "          if spsnote not in sps101:\n",
        "            print(\"Your SPS101 letter grade couldn't be found in point-scale.\")\n",
        "          if spsnote in sps101 and alnote not in al102:\n",
        "            print(\"Your AL102 letter grade couldn't be found in point-scale.\")\n",
        "          if alnote in al102 and spsnote in sps101:\n",
        "            spsnoteloc = sps101.find(spsnote)\n",
        "            scsps = sps101.find(\";\",spsnoteloc)\n",
        "            alnoteloc = al102.find(alnote)\n",
        "            scal = al102.find(\";\",alnoteloc)\n",
        "            spsnotenum = (sps101[spsnoteloc+2:scsps])\n",
        "            alnotenum = (al102[alnoteloc+2:scal])\n",
        "            gpa = input(\"Please enter your current GPA: \")\n",
        "            if \":\" in alnotenum:\n",
        "              alnotenum = alnotenum.replace(\":\",\"\",1)\n",
        "            if \":\" in spsnotenum:\n",
        "              spsnotenum = spsnotenum.replace(\":\",\"\",1)\n",
        "            if float(gpa)<0 or float(gpa)>4:\n",
        "              print(\"Your GPA needs to be in between 0-4.\")\n",
        "            elif 0<float(gpa)<2.2:\n",
        "              print(\"Your GPA needs to be at least 2.2.\")\n",
        "            else:\n",
        "              erasmusscore = float(spsnotenum)/5 + float(alnotenum)*3/10 + float(gpa)*12.5            \n",
        "              print(\"Your final Erasmus score is, \",erasmusscore,\".\",sep = '')"
      ],
      "execution_count": null,
      "outputs": [
        {
          "output_type": "stream",
          "text": [
            "Please enter your current term: 2\n",
            "Please enter the total credits you earned before: 55\n",
            "Please enter the SPS101 letter grade equivalents: a:100;a-:95;b+:90;b-:80\n",
            "Invalid input for SPS101 letter grade sequence.\n"
          ],
          "name": "stdout"
        }
      ]
    }
  ]
}